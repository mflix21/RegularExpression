{
 "cells": [
  {
   "cell_type": "markdown",
   "metadata": {},
   "source": [
    "# Python RegEx:\n",
    "    -- A RegEx or Regular Expression is a sequence of characters that forms a search pattern.\n",
    "\n",
    "    -- RegEx can be used to check if a string contains the specified search pattern.\n",
    "\n",
    "    -- Python has a built-in package called re, which can be used to work with Regular Expressions.\n",
    "\n",
    "    -- Importing the re module. When we imported re module, we are ready to use regular expression."
   ]
  },
  {
   "cell_type": "code",
   "execution_count": null,
   "metadata": {},
   "outputs": [],
   "source": [
    "import re"
   ]
  },
  {
   "cell_type": "code",
   "execution_count": null,
   "metadata": {},
   "outputs": [],
   "source": [
    "# Example-01: Search the string to see if it starts with \"This\" and ends with \"Hasan\"\n",
    "import re\n",
    "text = \"This is Mehedi Hasan\"\n",
    "txt = re.search(\"^This.*Mehedi$\", text)     # This returns None\n",
    "txt = re.search(\"^This.*Hasan$\", text)      # This returns the whole string\n",
    "print(txt)\n"
   ]
  },
  {
   "cell_type": "markdown",
   "metadata": {},
   "source": [
    "# RegEx Functions :\n",
    "    -- The re module offers a set of functions that allows us to search a string for a match:\n",
    "\n",
    "    # Function\t    # Description\n",
    "      -- findall\t-- Returns a list containing all matches\n",
    "      -- search\t    -- Returns a Match object if there is a match anywhere in the string\n",
    "      -- split\t    -- Returns a list where the string has been split at each match\n",
    "      -- sub\t    -- Replaces one or many matches with a string\n",
    "\n",
    "\n",
    "\n",
    "\n",
    "# Metacharacters : Metacharacters are characters with a special meaning.\n",
    "\n",
    "# Character\t        # Description\t                                                Example\t\n",
    "[]\t                A set of characters\t                                          \"[a-m]\"\t\n",
    "\\\t                  Signals a special sequence\n",
    "                    (can also be used to escape special characters)\t              \"\\d\"\t\n",
    "\n",
    ".\t                  Any character (except newline character)\t                    \"he..o\"\t\n",
    "^\t                  Starts with\t                                                  \"^hello\"\t\n",
    "$\t                  Ends with\t                                                    \"planet$\"\t\n",
    "*\t                  Zero or more occurrences\t                                    \"he.*o\"\t\n",
    "+\t                  One or more occurrences\t                                      \"he.+o\"\t\n",
    "?\t                  Zero or one occurrences\t                                      \"he.?o\"\t\n",
    "{}\t                Exactly the specified number of occurrences\t                  \"he{2}o\"\t\n",
    "|\t                  Either or\t                                                    \"falls|stays\"\t\n",
    "()\t                Capture and group\t \t\n",
    "\n",
    "\n",
    "Note: Examples of using every metacharacters are given below:"
   ]
  },
  {
   "cell_type": "code",
   "execution_count": null,
   "metadata": {},
   "outputs": [],
   "source": [
    "# Example of []: A set of characters\n",
    "# Find all lower case characters alphabetically between \"a\" and \"m\"\n",
    "\n",
    "import re\n",
    "text = \"This is Mehedi Hasan\"\n",
    "txt = re.findall(\"[a-m]\", text)             # This returns from a to m but exclude m because index starts from 0\n",
    "txt = re.findall(\"[a,e,i,o,u]\", text)       # This returns between a,e,i,o,u and ofcourse in a list\n",
    "print(txt)"
   ]
  },
  {
   "cell_type": "code",
   "execution_count": null,
   "metadata": {},
   "outputs": [],
   "source": [
    "# Example of \\: Signals a special sequence (can also be used to escape special characters)\n",
    "# Find all digit characters\n",
    "\n",
    "import re\n",
    "text = \"And He is 35 dollars\"\n",
    "txt = re.findall(\"\\d\", text)            # returns one digit number in a list\n",
    "txt = re.findall(\"\\d\\d\", text)          # returns two digit number in a list\n",
    "print(txt)"
   ]
  },
  {
   "cell_type": "code",
   "execution_count": null,
   "metadata": {},
   "outputs": [],
   "source": [
    "# Example of .: Any character (except newline character)\n",
    "# Search for a sequence that starts with \"Meh\", followed by two (any) characters, and an \"i\"\n",
    "\n",
    "import re\n",
    "txt = \"This is Mehedi Hasan\"\n",
    "x = re.findall(\"Meh..i\", txt)       # Returns in a list\n",
    "print(x)\n"
   ]
  },
  {
   "cell_type": "code",
   "execution_count": null,
   "metadata": {},
   "outputs": [],
   "source": [
    "# Example of ^: Starts with\n",
    "# Check if the string starts with 'hello'\n",
    "\n",
    "import re\n",
    "txt = \"hello Mehedi\"\n",
    "x = re.findall(\"^hello\", txt)\n",
    "if x:\n",
    "  print(\"Yes, the string starts with 'hello'\")\n",
    "else:\n",
    "  print(\"No match\")"
   ]
  },
  {
   "cell_type": "code",
   "execution_count": null,
   "metadata": {},
   "outputs": [],
   "source": [
    "# Example of $: Ends with\n",
    "# Check if the string ends with 'planet'\n",
    "\n",
    "import re\n",
    "txt = \"hello Mehedi Hasan\"\n",
    "x = re.findall(\"Hasan$\", txt)\n",
    "if x:\n",
    "  print(\"Yes, the string ends with 'Hasan'\")\n",
    "else:\n",
    "  print(\"No match\")"
   ]
  },
  {
   "cell_type": "code",
   "execution_count": null,
   "metadata": {},
   "outputs": [],
   "source": [
    "# Example of *:\tZero or more occurrencesimport re\n",
    "# Search for a sequence that starts with \"Me\", followed by 0 or more  (any) characters, and an \"i\"\n",
    "\n",
    "txt = \"hello Mehedi Hasan\"\n",
    "x = re.findall(\"Me.*i\", txt)\n",
    "print(x)"
   ]
  },
  {
   "cell_type": "code",
   "execution_count": null,
   "metadata": {},
   "outputs": [],
   "source": [
    "# Example of +:\tOne or more occurrences\n",
    "# Search for a sequence that starts with \"Me\", followed by 1 or more  (any) characters, and an \"i\"\n",
    "\n",
    "import re\n",
    "txt = \"hello Mehedi Hasan\"\n",
    "x = re.findall(\"Me.+i\", txt)\n",
    "print(x)"
   ]
  },
  {
   "cell_type": "code",
   "execution_count": null,
   "metadata": {},
   "outputs": [],
   "source": [
    "# Example of ?:\tZero or one occurrences\n",
    "# Search for a sequence that starts with \"he\", followed by 0 or 1  (any) character, and an \"o\"\n",
    "\n",
    "import re\n",
    "txt = \"hello planet\"\n",
    "x = re.findall(\"he.?o\", txt)\n",
    "print(x)\n",
    "\n",
    "# Note: This time we got no match, because there were not zero, not one, but two characters between \"he\" and the \"o\"\n"
   ]
  },
  {
   "cell_type": "code",
   "execution_count": null,
   "metadata": {},
   "outputs": [],
   "source": [
    "# Example of {}: Exactly the specified number of occurrences\n",
    "# Search for a sequence that starts with \"Me\", followed excactly 3 (any) characters, and an \"i\"\n",
    "\n",
    "import re\n",
    "txt = \"hello Mehedi Hasan\"\n",
    "x = re.findall(\"Me.{3}i\", txt)\n",
    "print(x)"
   ]
  },
  {
   "cell_type": "code",
   "execution_count": null,
   "metadata": {},
   "outputs": [],
   "source": [
    "# Example of |:\tEither or\n",
    "#Check if the string contains either \"Mehedi\" or \"stays\"\n",
    "\n",
    "import re\n",
    "txt = \"This is Mohammed Mehedi Hasan\"\n",
    "x = re.findall(\"Mehedi|stays\", txt)\n",
    "print(x)\n",
    "if x:\n",
    "  print(\"Yes, there is at least one match!\")\n",
    "else:\n",
    "  print(\"No match\")"
   ]
  },
  {
   "cell_type": "markdown",
   "metadata": {},
   "source": [
    "# Special Sequences :\n",
    "    -- A special sequence is a \\ followed by one of the characters in the list below, and has a special meaning:\n",
    "\n",
    "# Character\t    # Description\t                                                                                    # Example\t\n",
    "\\A\t            Returns a match if the specified characters are at the beginning of the string\t                    \"\\AThe\"\t\n",
    "\n",
    "\\b\t            Returns a match where the specified characters are at the beginning or at the end of a word         r\"\\bain\"\n",
    "                (the \"r\" in the beginning is making sure that the string is being treated as a \"raw string\")\t    r\"ain\\b\"\n",
    "\t\n",
    "\\B\t            Returns a match where the specified characters are present, but NOT at the beginning                r\"\\Bain\"\n",
    "                (or at the end) of a word                                                                           r\"ain\\B\"\n",
    "                (the \"r\" in the beginning is making sure that the string is being treated as a \"raw string\")\t\n",
    "  \n",
    "\n",
    "\n",
    "\\d\t            Returns a match where the string contains digits (numbers from 0-9)\t                                \"\\d\"\t\n",
    "\\D\t            Returns a match where the string DOES NOT contain digits\t                                        \"\\D\"\t\n",
    "\\s\t            Returns a match where the string contains a white space character\t                                \"\\s\"\t\n",
    "\\S\t            Returns a match where the string DOES NOT contain a white space character\t                        \"\\S\"\t\n",
    "\n",
    "\\w\t            Returns a match where the string contains any word characters \n",
    "                (characters from a to Z, digits from 0-9, and the underscore _ character)\t                        \"\\w\"\n",
    "\n",
    "\\W\t            Returns a match where the string DOES NOT contain any word characters\t                            \"\\W\"\t\n",
    "\\Z\t            Returns a match if the specified characters are at the end of the string\t                        \"Spain\\Z\"\t\n"
   ]
  },
  {
   "cell_type": "code",
   "execution_count": null,
   "metadata": {},
   "outputs": [],
   "source": [
    "# Example of \\A: Returns a match if the specified characters are at the beginning of the string\n",
    "# Check if the string starts with \"The\"\n",
    "\n",
    "import re\n",
    "txt = \"The First Independent City In Bangladesh! Jessore\"\n",
    "x = re.findall(\"\\AThe\", txt)\n",
    "print(x)\n",
    "\n",
    "if x:\n",
    "  print(\"Yes, there is a match!\")\n",
    "else:\n",
    "  print(\"No match\")"
   ]
  },
  {
   "cell_type": "code",
   "execution_count": null,
   "metadata": {},
   "outputs": [],
   "source": [
    "# Example of \\b: Returns a match where the specified characters are at the beginning or at the end of a word\n",
    "# (the \"r\" in the beginning is making sure that the string is being treated as a \"raw string\")\n",
    "# Check if \"rai\" is present at the beginning of a WORD:\n",
    "\n",
    "import re\n",
    "txt = \"The rain in Spain\"\n",
    "x = re.findall(r\"\\brai\", txt)\n",
    "print(x)\n",
    "\n",
    "if x:\n",
    "  print(\"Yes, there is at least one match!\")\n",
    "else:\n",
    "  print(\"No match\")\n"
   ]
  },
  {
   "cell_type": "code",
   "execution_count": null,
   "metadata": {},
   "outputs": [],
   "source": [
    "# Another Example of speacial sequence \\b:\n",
    "#Check if \"ain\" is present at the end of a WORD\n",
    "\n",
    "import re\n",
    "txt = \"The rain in Spain\"\n",
    "x = re.findall(r\"ain\\b\", txt)           # Returns as a list\n",
    "print(x)\n",
    "\n",
    "if x:\n",
    "  print(\"Yes, there is at least one match!\")\n",
    "else:\n",
    "  print(\"No match\")"
   ]
  },
  {
   "cell_type": "code",
   "execution_count": null,
   "metadata": {},
   "outputs": [],
   "source": [
    "# Example of \\B: Returns a match where the specified characters are present, but NOT at the beginning (or at the end) of a word\n",
    "#Check if \"ain\" is present, but NOT at the beginning of a word\n",
    "\n",
    "import re\n",
    "txt = \"The rain in Spain\"\n",
    "x = re.findall(r\"\\Bain\", txt)\n",
    "print(x)\n",
    "\n",
    "if x:\n",
    "  print(\"Yes, there is at least one match!\")\n",
    "else:\n",
    "  print(\"No match\")"
   ]
  },
  {
   "cell_type": "code",
   "execution_count": null,
   "metadata": {},
   "outputs": [],
   "source": [
    "# Another example of \\B:\n",
    "#Check if \"ain\" is present, but NOT at the end of a word\n",
    "\n",
    "import re\n",
    "txt = \"This is Mehedi Hasan\"\n",
    "x = re.findall(r\"he\\B\", txt)\n",
    "print(x)\n",
    "\n",
    "if x:\n",
    "  print(\"Yes, there is at least one match!\")\n",
    "else:\n",
    "  print(\"No match\")"
   ]
  },
  {
   "cell_type": "code",
   "execution_count": null,
   "metadata": {},
   "outputs": [],
   "source": [
    "# Example of \\d: Returns a match where the string contains digits (numbers from 0-9)\n",
    "# Check if the string contains any digits (numbers from 0-9)\n",
    "\n",
    "import re\n",
    "txt = \"He has 38 dollars and 59 cents\"\n",
    "x = re.findall(\"\\d\", txt)                   # It returns one digit in a list\n",
    "x = re.findall(\"\\d\\d\", txt)                 # It returns two digits in a list\n",
    "print(x)\n",
    "\n",
    "if x:\n",
    "  print(\"Yes, there is at least one match!\")\n",
    "else:\n",
    "  print(\"No match\")"
   ]
  },
  {
   "cell_type": "code",
   "execution_count": null,
   "metadata": {},
   "outputs": [],
   "source": [
    "# Example of \\D: Returns a match where the string DOES NOT contain digits\n",
    "# Return a match at every no-digit character\n",
    "\n",
    "import re\n",
    "txt = \"He is 35\"\n",
    "x = re.findall(\"\\D\", txt)               # It takes space as a value of a list\n",
    "print(x)\n",
    "\n",
    "if x:\n",
    "  print(\"Yes, there is at least one match!\")\n",
    "else:\n",
    "  print(\"No match\")"
   ]
  },
  {
   "cell_type": "code",
   "execution_count": null,
   "metadata": {},
   "outputs": [],
   "source": [
    "# Example of \\s: Returns a match where the string contains a white space character\n",
    "# Return a match at every white-space character\n",
    "\n",
    "import re\n",
    "txt = \"This is Mehedi Hasan !\"\n",
    "x = re.findall(\"\\s\", txt)\n",
    "print(x)\n",
    "\n",
    "if x:\n",
    "  print(\"Yes, there is at least one match!\")\n",
    "else:\n",
    "  print(\"No match\")"
   ]
  },
  {
   "cell_type": "code",
   "execution_count": null,
   "metadata": {},
   "outputs": [],
   "source": [
    "# Example of \\S: Returns a match where the string DOES NOT contain a white space character\n",
    "# Return a match at every NON white-space character\n",
    "\n",
    "import re\n",
    "txt = \"This is Mehedi\"\n",
    "x = re.findall(\"\\S\", txt)\n",
    "print(x)\n",
    "\n",
    "if x:\n",
    "  print(\"Yes, there is at least one match!\")\n",
    "else:\n",
    "  print(\"No match\")"
   ]
  },
  {
   "cell_type": "code",
   "execution_count": null,
   "metadata": {},
   "outputs": [],
   "source": [
    "# Example of \\w: Returns a match where the string contains any word characters \n",
    "# (characters from a to Z, digits from 0-9, and the underscore _ character)\n",
    "# Return a match at every word character (characters from a to Z, digits from 0-9, and the underscore _ character)\n",
    "\n",
    "import re\n",
    "txt = \"He is 35 years\"\n",
    "x = re.findall(\"\\w\", txt)\n",
    "print(x)\n",
    "\n",
    "if x:\n",
    "  print(\"Yes, there is at least one match!\")\n",
    "else:\n",
    "  print(\"No match\")"
   ]
  },
  {
   "cell_type": "code",
   "execution_count": null,
   "metadata": {},
   "outputs": [],
   "source": [
    "# Example of \\W: Returns a match where the string DOES NOT contain any word characters\n",
    "# Return a match at every NON word character (characters NOT between a and Z. Like \"!\", \"?\" white-space etc.)\n",
    "\n",
    "import re\n",
    "txt = \"This is Mehedi and He is 35 years old ! ?\"\n",
    "x = re.findall(\"\\W\", txt)\n",
    "print(x)\n",
    "\n",
    "if x:\n",
    "  print(\"Yes, there is at least one match!\")\n",
    "else:\n",
    "  print(\"No match\")"
   ]
  },
  {
   "cell_type": "code",
   "execution_count": null,
   "metadata": {},
   "outputs": [],
   "source": [
    "# Example of \\Z: Returns a match if the specified characters are at the end of the string\n",
    "# Check if the string ends with \"Spain\"\n",
    "\n",
    "import re\n",
    "txt = \"This Hasan Mehedi\"\n",
    "x = re.findall(\"Mehedi\\Z\", txt)\n",
    "print(x)\n",
    "\n",
    "if x:\n",
    "  print(\"Yes, there is a match!\")\n",
    "else:\n",
    "  print(\"No match\")"
   ]
  },
  {
   "cell_type": "markdown",
   "metadata": {},
   "source": [
    "# Sets :\n",
    "    -- A set is a set of characters inside a pair of square brackets [] with a special meaning:\n",
    "\n",
    "# Set\t        # Description\t\n",
    "[arn]\t        Returns a match where one of the specified characters (a, r, or n) are present\t\n",
    "[a-n]\t        Returns a match for any lower case character, alphabetically between a and n\t\n",
    "[^arn]\t        Returns a match for any character EXCEPT a, r, and n\t\n",
    "[0123]\t        Returns a match where any of the specified digits (0, 1, 2, or 3) are present\t\n",
    "[0-9]\t        Returns a match for any digit between 0 and 9\t\n",
    "[0-5][0-9]\t    Returns a match for any two-digit numbers from 00 and 59\t\n",
    "[a-zA-Z]\t    Returns a match for any character alphabetically between a and z, lower case OR upper case\t\n",
    "[+]\t            In sets, +, *, ., |, (), $,{} has no special meaning, so [+] means: return a match for any + character in the string"
   ]
  },
  {
   "cell_type": "code",
   "execution_count": null,
   "metadata": {},
   "outputs": [],
   "source": [
    "# Example of [arn]:\tReturns a match where one of the specified characters (a, r, or n) are present\n",
    "# Check if the string has any a, r, or n characters\n",
    "\n",
    "import re\n",
    "txt = \"This is Mehedi\"\n",
    "x = re.findall(\"[Meh]\", txt)\n",
    "print(x)\n",
    "\n",
    "if x:\n",
    "  print(\"Yes, there is at least one match!\")\n",
    "else:\n",
    "  print(\"No match\")"
   ]
  },
  {
   "cell_type": "code",
   "execution_count": null,
   "metadata": {},
   "outputs": [],
   "source": [
    "# Example of [a-n]:\tReturns a match for any lower case character, alphabetically between a and n\n",
    "# Check if the string has any characters between a and n\n",
    "\n",
    "import re\n",
    "txt = \"This is Mehedi\"\n",
    "x = re.findall(\"[a-d]\", txt)\n",
    "print(x)\n",
    "\n",
    "if x:\n",
    "  print(\"Yes, there is at least one match!\")\n",
    "else:\n",
    "  print(\"No match\")"
   ]
  },
  {
   "cell_type": "code",
   "execution_count": null,
   "metadata": {},
   "outputs": [],
   "source": [
    "# Example of [^arn]: Returns a match for any character EXCEPT a, r, and n\n",
    "# Check if the string has other characters than a, r, or n\n",
    "\n",
    "import re\n",
    "txt = \"This is Mehedi\"\n",
    "x = re.findall(\"[^Thisd]\", txt)             # Different output\n",
    "x = re.findall(\"[^This d]\", txt)            # Different output\n",
    "print(x)\n",
    "\n",
    "if x:\n",
    "  print(\"Yes, there is at least one match!\")\n",
    "else:\n",
    "  print(\"No match\")"
   ]
  },
  {
   "cell_type": "code",
   "execution_count": null,
   "metadata": {},
   "outputs": [],
   "source": [
    "# Example of [0123]: Returns a match where any of the specified digits (0, 1, 2, or 3) are present\n",
    "# Check if the string has any 0, 1, 2, or 3 digits\n",
    "\n",
    "import re\n",
    "txt = \"He has 2 3 4 laptop\"\n",
    "x = re.findall(\"[0123]\", txt)\n",
    "print(x)\n",
    "\n",
    "if x:\n",
    "  print(\"Yes, there is at least one match!\")\n",
    "else:\n",
    "  print(\"No match\")"
   ]
  },
  {
   "cell_type": "code",
   "execution_count": null,
   "metadata": {},
   "outputs": [],
   "source": [
    "# Example of [0-9]:\tReturns a match for any digit between 0 and 9\n",
    "# Check if the string has any digits\n",
    "\n",
    "import re\n",
    "txt = \"9 times before 11:45 AM\"\n",
    "x = re.findall(\"[0-9]\", txt)\n",
    "print(x)\n",
    "\n",
    "if x:\n",
    "  print(\"Yes, there is at least one match!\")\n",
    "else:\n",
    "  print(\"No match\")"
   ]
  },
  {
   "cell_type": "code",
   "execution_count": null,
   "metadata": {},
   "outputs": [],
   "source": [
    "# Example of [0-5][0-9]: Returns a match for any two-digit numbers from 00 and 59\n",
    "#Check if the string has any two-digit numbers, from 00 to 59\n",
    "\n",
    "import re\n",
    "txt = \"9 times before 11:45 AM\"\n",
    "x = re.findall(\"[0-5][0-9]\", txt)\n",
    "print(x)\n",
    "\n",
    "if x:\n",
    "  print(\"Yes, there is at least one match!\")\n",
    "else:\n",
    "  print(\"No match\")"
   ]
  },
  {
   "cell_type": "code",
   "execution_count": null,
   "metadata": {},
   "outputs": [],
   "source": [
    "# Example of [a-zA-Z]: Returns a match for any character alphabetically between a and z, lower case OR upper case\n",
    "# Check if the string has any characters from a to z lower case, and A to Z upper case\n",
    "\n",
    "import re\n",
    "txt = \"9 times before 11:45 PM\"\n",
    "x = re.findall(\"[a-zA-Z]\", txt)\n",
    "print(x)\n",
    "\n",
    "if x:\n",
    "  print(\"Yes, there is at least one match!\")\n",
    "else:\n",
    "  print(\"No match\")"
   ]
  },
  {
   "cell_type": "code",
   "execution_count": null,
   "metadata": {},
   "outputs": [],
   "source": [
    "# Example of [+]: In sets +, *, ., |, (), $,{} has no special meaning, so [+] means: return a match for any + character in the string\n",
    "# Check if the string has any + characters\n",
    "\n",
    "import re\n",
    "txt = \"8 times before *.| 11:45 AM\"\n",
    "x = re.findall(\"[+*.|]\", txt)\n",
    "print(x)\n",
    "\n",
    "if x:\n",
    "  print(\"Yes, there is at least one match!\")\n",
    "else:\n",
    "  print(\"No match\")"
   ]
  },
  {
   "cell_type": "code",
   "execution_count": null,
   "metadata": {},
   "outputs": [],
   "source": [
    "# The findall() Function\n",
    "# The findall() function returns a list containing all matches.\n",
    "\n",
    "# Example-01: Print a list of all matches:\n",
    "\n",
    "import re\n",
    "txt = \"The rain in Spain\"\n",
    "x = re.findall(\"ai\", txt)\n",
    "print(x)\n",
    "\n",
    "# The list contains the matches in the order they are found.\n",
    "\n",
    "\n",
    "\n",
    "\n",
    "# If no matches are found, an empty list is returned:\n",
    "# Example-02: Return an empty list if no match was found:\n",
    "\n",
    "import re\n",
    "\n",
    "txt = \"The rain in Spain\"\n",
    "x = re.findall(\"Portugal\", txt)\n",
    "print(x)"
   ]
  },
  {
   "cell_type": "code",
   "execution_count": null,
   "metadata": {},
   "outputs": [],
   "source": [
    "# The search() Function\n",
    "# The search() function searches the string for a match, and returns a Match object if there is a match.\n",
    "# If there is more than one match, only the first occurrence of the match will be returned:\n",
    "\n",
    "# Example-01: Search for the first white-space character in the string:\n",
    "\n",
    "import re\n",
    "txt = \"The rain in Spain\"\n",
    "x = re.search(\"\\s\", txt)\n",
    "print(\"The first white-space character is located in position:\", x.start())\n",
    "\n",
    "\n",
    "\n",
    "# If no matches are found, the value None is returned:\n",
    "# Example-02: Make a search that returns no match:\n",
    "\n",
    "import re\n",
    "txt = \"The rain in Spain\"\n",
    "x = re.search(\"Portugal\", txt)\n",
    "print(x)"
   ]
  },
  {
   "cell_type": "code",
   "execution_count": null,
   "metadata": {},
   "outputs": [],
   "source": [
    "# The split() Function :\n",
    "# The split() function returns a list where the string has been split at each match:\n",
    "\n",
    "# Example-01: Split at each white-space character:\n",
    "\n",
    "import re\n",
    "txt = \"This is Mehedi Hasan\"\n",
    "x = re.split(\"\\s\", txt)\n",
    "print(x)\n",
    "\n",
    "\n",
    "\n",
    "\n",
    "\n",
    "# We can control the number of occurrences by specifying the maxsplit parameter:\n",
    "# Example-02: Split the string only at the first occurrence:\n",
    "\n",
    "import re\n",
    "txt = \"The rain in Spain\"\n",
    "x = re.split(\"\\s\", txt, 1)\n",
    "print(x)\n",
    "\n",
    "x = re.split(\"\\s\", txt, 2)\n",
    "print(x)\n",
    "\n",
    "x = re.split(\"\\s\", txt, 3)\n",
    "print(x)"
   ]
  },
  {
   "cell_type": "code",
   "execution_count": null,
   "metadata": {},
   "outputs": [],
   "source": [
    "# The sub() Function :\n",
    "# The sub() function replaces the matches with the text of your choice:\n",
    "\n",
    "\n",
    "# Example-01: Replace every white-space character with the number 9:\n",
    "\n",
    "import re\n",
    "txt = \"The rain in Spain\"\n",
    "x = re.sub(\"\\s\", \"9\", txt)\n",
    "print(x)\n",
    "\n",
    "\n",
    "\n",
    "# You can control the number of replacements by specifying the count parameter:\n",
    "# Example-02: Replace the first 2 occurrences:\n",
    "\n",
    "import re\n",
    "txt = \"The rain in Spain\"\n",
    "x = re.sub(\"\\s\", \"9\", txt, 2)\n",
    "print(x)"
   ]
  },
  {
   "cell_type": "code",
   "execution_count": null,
   "metadata": {},
   "outputs": [],
   "source": [
    "# Match Object : \n",
    "# A Match Object is an object containing information about the search and the result.\n",
    "\n",
    "# Note: If there is no match, the value None will be returned, instead of the Match Object.\n",
    "# Example-01 : Do a search that will return a Match Object:\n",
    "\n",
    "import re\n",
    "txt = \"The rain in Spain\"\n",
    "x = re.search(\"ai\", txt)\n",
    "print(x)                    # this will print an object\n"
   ]
  },
  {
   "cell_type": "markdown",
   "metadata": {},
   "source": [
    "# The Match Object : \n",
    "    -- The Match object has properties and methods used to retrieve information about the search, and the result:\n",
    "    -- .span() returns a tuple containing the start-, and end positions of the match.\n",
    "    -- .string returns the string passed into the function\n",
    "    -- .group() returns the part of the string where there was a match"
   ]
  },
  {
   "cell_type": "code",
   "execution_count": null,
   "metadata": {},
   "outputs": [],
   "source": [
    "# Example-01 : Print the position (start- and end-position) of the first match occurrence.\n",
    "# The regular expression looks for any words that starts with an upper case \"S\":\n",
    "\n",
    "import re\n",
    "txt = \"The rain in Spain\"\n",
    "x = re.search(r\"\\bS\\w+\", txt)\n",
    "print(x.span())\n",
    "\n",
    "\n",
    "\n",
    "# Example-02 : Print the string passed into the function\n",
    "\n",
    "import re\n",
    "txt = \"The rain in Spain\"\n",
    "x = re.search(r\"\\bS\\w+\", txt)\n",
    "print(x.string)\n",
    "\n",
    "\n",
    "\n",
    "\n",
    "\n",
    "# Example-03 : Print the part of the string where there was a match.\n",
    "# The regular expression looks for any words that starts with an upper case \"S\":\n",
    "\n",
    "import re\n",
    "txt = \"The rain in Spain\"\n",
    "x = re.search(r\"\\bS\\w+\", txt)\n",
    "print(x.group())\n",
    "\n",
    "# Note: If there is no match, the value None will be returned, instead of the Match Object."
   ]
  }
 ],
 "metadata": {
  "interpreter": {
   "hash": "c819db0b61094783b121348d134d41c4e0450ebc7e72307b330662436e6d9290"
  },
  "kernelspec": {
   "display_name": "Python 3.9.6 64-bit",
   "name": "python3"
  },
  "language_info": {
   "codemirror_mode": {
    "name": "ipython",
    "version": 3
   },
   "file_extension": ".py",
   "mimetype": "text/x-python",
   "name": "python",
   "nbconvert_exporter": "python",
   "pygments_lexer": "ipython3",
   "version": "3.9.6"
  },
  "orig_nbformat": 4
 },
 "nbformat": 4,
 "nbformat_minor": 2
}
